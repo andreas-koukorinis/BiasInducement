{
 "cells": [
  {
   "cell_type": "code",
   "execution_count": 5,
   "id": "4889cae6-de6d-49a6-b59a-cefff674f94f",
   "metadata": {},
   "outputs": [],
   "source": [
    "from econml.dml import CausalForestDML, LinearDML\n",
    "from econml.dr import DRLearner\n",
    "from sklearn.ensemble import RandomForestRegressor\n",
    "from sklearn.linear_model import LogisticRegression\n",
    "from sklearn.preprocessing import StandardScaler\n",
    "import numpy as np\n",
    "\n",
    "\n",
    "def estimate_ate_econml(df, outcome, treatment, covariates, methods=[\"cf\", \"dr\", \"linear_dml\", \"ipw\"]):\n",
    "    X = df[covariates].values\n",
    "    T = df[treatment].values\n",
    "    Y = df[outcome].values\n",
    "\n",
    "    results = {}\n",
    "\n",
    "    # 1. Causal Forest DML\n",
    "    if \"cf\" in methods:\n",
    "        model_cf = CausalForestDML(\n",
    "            model_y=RandomForestRegressor(),\n",
    "            model_t=LogisticRegression(),\n",
    "            discrete_treatment=True,\n",
    "            random_state=42\n",
    "        )\n",
    "        model_cf.fit(Y, T, X=X)\n",
    "        results[\"Causal Forest\"] = model_cf.ate(X)\n",
    "\n",
    "    # 2. Linear DML (doubly robust, linear final stage)\n",
    "    if \"linear_dml\" in methods:\n",
    "        model_linear = LinearDML(\n",
    "            model_y=RandomForestRegressor(),\n",
    "            model_t=LogisticRegression(),\n",
    "            discrete_treatment=True,\n",
    "            random_state=42\n",
    "        )\n",
    "        model_linear.fit(Y, T, X=X)\n",
    "        results[\"Linear DML\"] = model_linear.ate(X)\n",
    "\n",
    "    # 3. DR Learner\n",
    "    if \"dr\" in methods:\n",
    "        model_dr = DRLearner(\n",
    "            model_regression=RandomForestRegressor(),\n",
    "            model_propensity=LogisticRegression(),\n",
    "            discrete_treatment=True\n",
    "        )\n",
    "        model_dr.fit(Y, T, X=X)\n",
    "        results[\"DR Learner\"] = model_dr.ate(X)\n",
    "\n",
    "    # 4. Manual IPW estimation\n",
    "    if \"ipw\" in methods:\n",
    "        model_prop = LogisticRegression()\n",
    "        model_prop.fit(X, T)\n",
    "        p = model_prop.predict_proba(X)[:, 1]\n",
    "        p = np.clip(p, 1e-3, 1 - 1e-3)  # avoid division by 0\n",
    "        weights = T / p + (1 - T) / (1 - p)\n",
    "        ipw_ate = np.mean(weights * (T * Y / p - (1 - T) * Y / (1 - p)))\n",
    "        results[\"IPW\"] = ipw_ate\n",
    "\n",
    "    return results\n"
   ]
  },
  {
   "cell_type": "code",
   "execution_count": 6,
   "id": "8540d3a2-ba2d-4479-b8a8-182c018293aa",
   "metadata": {},
   "outputs": [
    {
     "ename": "NameError",
     "evalue": "name 'osrct_df' is not defined",
     "output_type": "error",
     "traceback": [
      "\u001b[0;31m---------------------------------------------------------------------------\u001b[0m",
      "\u001b[0;31mNameError\u001b[0m                                 Traceback (most recent call last)",
      "Cell \u001b[0;32mIn[6], line 1\u001b[0m\n\u001b[0;32m----> 1\u001b[0m results \u001b[38;5;241m=\u001b[39m estimate_ate_econml(\u001b[43mosrct_df\u001b[49m, outcome\u001b[38;5;241m=\u001b[39m\u001b[38;5;124m\"\u001b[39m\u001b[38;5;124mDiabetes_012\u001b[39m\u001b[38;5;124m\"\u001b[39m, treatment\u001b[38;5;241m=\u001b[39m\u001b[38;5;124m\"\u001b[39m\u001b[38;5;124mHighBP\u001b[39m\u001b[38;5;124m\"\u001b[39m, covariates\u001b[38;5;241m=\u001b[39mcovariates)\n\u001b[1;32m      2\u001b[0m \u001b[38;5;28mprint\u001b[39m(\u001b[38;5;124m\"\u001b[39m\u001b[38;5;130;01m\\n\u001b[39;00m\u001b[38;5;124m🎯 ATE Estimates (EconML):\u001b[39m\u001b[38;5;124m\"\u001b[39m)\n\u001b[1;32m      3\u001b[0m \u001b[38;5;28;01mfor\u001b[39;00m method, val \u001b[38;5;129;01min\u001b[39;00m results\u001b[38;5;241m.\u001b[39mitems():\n",
      "\u001b[0;31mNameError\u001b[0m: name 'osrct_df' is not defined"
     ]
    }
   ],
   "source": [
    "results = estimate_ate_econml(osrct_df, outcome=\"Diabetes_012\", treatment=\"HighBP\", covariates=covariates)\n",
    "print(\"\\n🎯 ATE Estimates (EconML):\")\n",
    "for method, val in results.items():\n",
    "    print(f\"{method}: {val:.4f}\")\n"
   ]
  },
  {
   "cell_type": "code",
   "execution_count": null,
   "id": "1b540b85-c03d-4277-b034-1f012d2ad8a5",
   "metadata": {},
   "outputs": [],
   "source": []
  }
 ],
 "metadata": {
  "kernelspec": {
   "display_name": "Python 3 (ipykernel)",
   "language": "python",
   "name": "python3"
  },
  "language_info": {
   "codemirror_mode": {
    "name": "ipython",
    "version": 3
   },
   "file_extension": ".py",
   "mimetype": "text/x-python",
   "name": "python",
   "nbconvert_exporter": "python",
   "pygments_lexer": "ipython3",
   "version": "3.10.15"
  }
 },
 "nbformat": 4,
 "nbformat_minor": 5
}
